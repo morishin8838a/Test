{
 "metadata": {
  "name": "ABC"
 },
 "nbformat": 3,
 "nbformat_minor": 0,
 "worksheets": [
  {
   "cells": [
    {
     "cell_type": "heading",
     "level": 1,
     "metadata": {},
     "source": "NoteBook\u52c9\u5f37\u90e8\u5c4b"
    },
    {
     "cell_type": "heading",
     "level": 1,
     "metadata": {},
     "source": "nbviewer\u3092\u4ecb\u3057\u305f\u516c\u958b\u65b9\u6cd5"
    },
    {
     "cell_type": "markdown",
     "metadata": {},
     "source": "\u4fdd\u5b58\u3057\u305fipynb\u30d5\u30a1\u30a4\u30eb\u3092\nhttps://github.com/morisin/nb_20141025\n\u306e\u3088\u3046\u306bgithub,gist\u306a\u3069\u306bupload,push\u3057\u3066\u3001\n\nhttp://nbviewer.ipython.org/gist//morisin/nb_20141025\n\u3092\u307f\u308b\u3068nbviewer\u3092\u4ecb\u3057\u3066notebook\u304c\u307f\u308c\u307e\u3059\u3002\u53f3\u4e0a\u306b\u30c0\u30a6\u30f3\u30ed\u30fc\u30c9\u30dc\u30bf\u30f3\u304c\u3064\u3044\u3066\u3044\u307e\u3059\u3002"
    },
    {
     "cell_type": "code",
     "collapsed": false,
     "input": "",
     "language": "python",
     "metadata": {},
     "outputs": []
    }
   ],
   "metadata": {}
  }
 ]
}